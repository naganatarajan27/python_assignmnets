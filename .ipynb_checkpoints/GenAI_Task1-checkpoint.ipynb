{
 "cells": [
  {
   "cell_type": "markdown",
   "id": "a9dd8b7f-f0b1-41ac-89ae-ce92a8a99d86",
   "metadata": {},
   "source": [
    "# Python/Go/Java Project Requirements"
   ]
  },
  {
   "cell_type": "markdown",
   "id": "686a5245-b608-4a5b-b805-08f3956bba00",
   "metadata": {},
   "source": [
    "## Project 1\n",
    "## Read a pdf file from a folder. Refer to the PDF file Chemistry Questions.pdf\n",
    "### Requirements\n",
    "1. Store a PDF file in a folder called “/content”\n",
    "2. Read PDF file from the folder\n",
    "3. Write the content to a text file called “output.txt”\n",
    "4. Store this file under the “/content” folder\n",
    "### Error Handling\n",
    "1. Take care of case where folder is not available\n",
    "2. Take care of case where PDF file is not present in the content folder\n",
    "3. Take care of case where the output.txt file is not available"
   ]
  },
  {
   "cell_type": "code",
   "execution_count": 3,
   "id": "348d6cd4-674c-46eb-9ed0-ca23129ba88c",
   "metadata": {},
   "outputs": [
    {
     "name": "stdout",
     "output_type": "stream",
     "text": [
      "Requirement already satisfied: PyPDF2 in /opt/anaconda3/lib/python3.12/site-packages (3.0.1)\n",
      "Requirement already satisfied: pandas in /opt/anaconda3/lib/python3.12/site-packages (2.2.2)\n",
      "Requirement already satisfied: numpy>=1.26.0 in /opt/anaconda3/lib/python3.12/site-packages (from pandas) (1.26.4)\n",
      "Requirement already satisfied: python-dateutil>=2.8.2 in /opt/anaconda3/lib/python3.12/site-packages (from pandas) (2.9.0.post0)\n",
      "Requirement already satisfied: pytz>=2020.1 in /opt/anaconda3/lib/python3.12/site-packages (from pandas) (2024.1)\n",
      "Requirement already satisfied: tzdata>=2022.7 in /opt/anaconda3/lib/python3.12/site-packages (from pandas) (2023.3)\n",
      "Requirement already satisfied: six>=1.5 in /opt/anaconda3/lib/python3.12/site-packages (from python-dateutil>=2.8.2->pandas) (1.16.0)\n",
      "Note: you may need to restart the kernel to use updated packages.\n"
     ]
    }
   ],
   "source": [
    "pip install PyPDF2 pandas"
   ]
  },
  {
   "cell_type": "code",
   "execution_count": 4,
   "id": "b33b6023-7b9b-4975-984b-671dcd89adf0",
   "metadata": {},
   "outputs": [],
   "source": [
    "import os\n",
    "import PyPDF2"
   ]
  },
  {
   "cell_type": "code",
   "execution_count": 6,
   "id": "fb4bff6c-5b2f-4285-af89-f0dc92303605",
   "metadata": {},
   "outputs": [],
   "source": [
    "def read_pdf_from_folder(folder_path, filename):\n",
    "    file_path = os.path.join(folder_path, filename)\n",
    "\n",
    "    if not os.path.exists(file_path):\n",
    "        print(f\"File not found: {file_path}\")\n",
    "        return\n",
    "\n",
    "    with open(file_path, 'rb') as file:\n",
    "        reader = PyPDF2.PdfReader(file)\n",
    "        text = \"\"\n",
    "        for page_num, page in enumerate(reader.pages):\n",
    "            text += f\"\\n--- Page {page_num + 1} ---\\n\"\n",
    "            text += page.extract_text() or \"[No text found]\"\n",
    "        return text"
   ]
  },
  {
   "cell_type": "code",
   "execution_count": 8,
   "id": "cc73945e-ef10-48aa-9cac-87eaf1927ffe",
   "metadata": {},
   "outputs": [],
   "source": [
    "def write_to_text_file(text, output_file, output_folder):\n",
    "    os.makedirs(output_folder, exist_ok=True)\n",
    "    output_path = os.path.join(output_folder, output_file)\n",
    "    with open(output_path, 'w', encoding='utf-8') as file:\n",
    "        file.write(text)\n",
    "        if not os.path.exists(output_path):\n",
    "            print(f\"Failed !!! File not found: {output_path}\")\n",
    "            return\n",
    "        else:\n",
    "             print(f\"Success !!! Content written to {output_path}\")"
   ]
  },
  {
   "cell_type": "code",
   "execution_count": 10,
   "id": "c9d28b2f-c1e8-4275-bf48-140bc2a4caf4",
   "metadata": {},
   "outputs": [
    {
     "name": "stdout",
     "output_type": "stream",
     "text": [
      "Success !!! Content written to /Users/naganatarajan/Desktop/GEN_AI_Tasks/my_python_tasks/content/output.txt\n"
     ]
    }
   ],
   "source": [
    "folder = \"/Users/naganatarajan/Desktop/GEN_AI_Tasks/my_python_tasks/content/\"  # Change this to your folder path\n",
    "pdf_file = \"Chemistry Questions.pdf\"        # Change this to your PDF file name\n",
    "output_file=\"output.txt\"\n",
    "content = read_pdf_from_folder(folder, pdf_file)\n",
    "if content:\n",
    "    write_to_text_file(content,output_file,folder)"
   ]
  },
  {
   "cell_type": "markdown",
   "id": "115da13c-e4a4-46ee-b288-ff74a7fef57e",
   "metadata": {},
   "source": [
    "## Project 2\n",
    "## Traverse through folder tree and filter pdf files\n",
    "### Requirements\n",
    "1. Add sub-folders called “One”, “Two”, “Three” under the folder called “/content”\n",
    "2. Add PDF files under each of the sub-folders\n",
    "3. Load all PDF files under the sub-folders and load the PDF content\n",
    "4. Write the content to a text file called “output.txt” under each sub-folder respectively\n",
    "### Error Handling\n",
    "1. Take care of case where folder is not available\n",
    "2. Take care of case where PDF file is not present in a sub-folder\n",
    "3. Take care of case where the output.txt file is not available in a sub-folde\n"
   ]
  },
  {
   "cell_type": "code",
   "execution_count": 27,
   "id": "27ce9d73-9069-46d7-a5f5-1fddacbfbe3a",
   "metadata": {},
   "outputs": [
    {
     "name": "stdout",
     "output_type": "stream",
     "text": [
      "Subfolders found under /Users/naganatarajan/Desktop/GEN_AI_Tasks/my_python_tasks/content/\n",
      "Success !!! Content written to /Users/naganatarajan/Desktop/GEN_AI_Tasks/my_python_tasks/content/One/output.txt\n",
      "Success !!! Content written to /Users/naganatarajan/Desktop/GEN_AI_Tasks/my_python_tasks/content/One/Two/output.txt\n",
      "Success !!! Content written to /Users/naganatarajan/Desktop/GEN_AI_Tasks/my_python_tasks/content/One/Two/Three/output.txt\n"
     ]
    }
   ],
   "source": [
    "def traverse_subFolder(main_folder):\n",
    "    subfolders = []\n",
    "    for root, dirs, files in os.walk(main_folder):\n",
    "        for dir in dirs:\n",
    "            full_path = os.path.join(root, dir)\n",
    "            subfolders.append(full_path)\n",
    "    return subfolders\n",
    "\n",
    "\n",
    "subfolders = traverse_subFolder(folder)\n",
    "\n",
    "print(\"Subfolders found under\", folder)\n",
    "for sub in subfolders:\n",
    "    content = read_pdf_from_folder(sub, pdf_file)\n",
    "    if content:\n",
    "        write_to_text_file(content,output_file,sub)\n"
   ]
  },
  {
   "cell_type": "markdown",
   "id": "96e6d843-8878-49ff-9f5f-8cd9e1f860ca",
   "metadata": {},
   "source": [
    "## Project 3\n",
    "## Read content from a particular page\n",
    "### Requirements\n",
    "1. Update project 1 and update the reading of content \n",
    "2. Take a page number as an input from command prompt\n",
    "3. Read content of the page number provided and write to the output file\n",
    "### Error Handling\n",
    "1. Take care of case where folder is not available\n",
    "2. Take care of case where PDF file is not present in a sub-folder\n",
    "3. Take care of case where the output.txt file is not available in a sub-folder\n"
   ]
  },
  {
   "cell_type": "code",
   "execution_count": 47,
   "id": "7d0c3f76-5585-465e-8823-83ab2ff07ca9",
   "metadata": {},
   "outputs": [],
   "source": [
    "def read_pdf_from_folder_based_page_number(folder_path, filename, pagenumber):\n",
    "    file_path = os.path.join(folder_path, filename)\n",
    "\n",
    "    if not os.path.exists(file_path):\n",
    "        print(f\"File not found: {file_path}\")\n",
    "        return\n",
    "\n",
    "    with open(file_path, 'rb') as file:\n",
    "        reader = PyPDF2.PdfReader(file)\n",
    "        text = \"\"\n",
    "        for page_num, page in enumerate(reader.pages):\n",
    "            if page_num + 1 == pagenumber:\n",
    "                text += f\"\\n--- Page {page_num + 1} ---\\n\"\n",
    "                text += page.extract_text() or \"[No text found]\"\n",
    "        return text"
   ]
  },
  {
   "cell_type": "code",
   "execution_count": 69,
   "id": "47d8f09f-f061-4c90-bc0d-1aca0e112495",
   "metadata": {},
   "outputs": [
    {
     "name": "stdout",
     "output_type": "stream",
     "text": [
      "Success !!! Content written to /Users/naganatarajan/Desktop/GEN_AI_Tasks/my_python_tasks/content/output.txt\n"
     ]
    }
   ],
   "source": [
    "folder = \"/Users/naganatarajan/Desktop/GEN_AI_Tasks/my_python_tasks/content/\"  # Change this to your folder path\n",
    "pdf_file = \"Chemistry Questions.pdf\"        # Change this to your PDF file name\n",
    "output_file=\"output.txt\"\n",
    "pagenumber = 1\n",
    "content = read_pdf_from_folder_based_page_number(folder, pdf_file,pagenumber)\n",
    "if content:\n",
    "    write_to_text_file(content,output_file,folder)\n",
    "else:\n",
    "    print(f\"Failed !!! No Content Found: {content}\")"
   ]
  },
  {
   "cell_type": "code",
   "execution_count": null,
   "id": "ae457836-2b53-41d7-ad65-a061c468e1a9",
   "metadata": {},
   "outputs": [],
   "source": []
  }
 ],
 "metadata": {
  "kernelspec": {
   "display_name": "Python [conda env:base] *",
   "language": "python",
   "name": "conda-base-py"
  },
  "language_info": {
   "codemirror_mode": {
    "name": "ipython",
    "version": 3
   },
   "file_extension": ".py",
   "mimetype": "text/x-python",
   "name": "python",
   "nbconvert_exporter": "python",
   "pygments_lexer": "ipython3",
   "version": "3.12.7"
  }
 },
 "nbformat": 4,
 "nbformat_minor": 5
}
